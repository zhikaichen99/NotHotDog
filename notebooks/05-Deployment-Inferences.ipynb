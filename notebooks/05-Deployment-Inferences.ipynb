{
 "cells": [
  {
   "attachments": {},
   "cell_type": "markdown",
   "id": "b2c3a8b8",
   "metadata": {},
   "source": [
    "# Model Deployment and Making Inferences\n",
    "\n",
    "In this notebook we will be using our trained model to make local inferences. We will get predictions from our validation/test set and evaluate the performance of our model.\n",
    "\n",
    "- load our trained mode\n",
    "- configuring and deploying the model endpoint on SageMaker\n",
    "- make local inferences\n",
    "- predictions on validation set\n",
    "- confusion matrix"
   ]
  },
  {
   "cell_type": "code",
   "execution_count": 1,
   "id": "b119afba",
   "metadata": {},
   "outputs": [
    {
     "name": "stdout",
     "output_type": "stream",
     "text": [
      "arn:aws:iam::003294323742:role/service-role/AmazonSageMaker-ExecutionRole-20230115T105791\n",
      "us-east-2\n"
     ]
    }
   ],
   "source": [
    "import sagemaker\n",
    "import boto3\n",
    "import os\n",
    "\n",
    "sagemaker_session = sagemaker.Session()\n",
    "role = sagemaker.get_execution_role()\n",
    "region = sagemaker_session.boto_region_name\n",
    "bucket = 'not-hot-dog'\n",
    "\n",
    "print(role)\n",
    "print(region)"
   ]
  },
  {
   "attachments": {},
   "cell_type": "markdown",
   "id": "d7301689",
   "metadata": {},
   "source": [
    "## Loading our trained model\n",
    "\n",
    "We will be loading the trained model that achieved the highest accuracy during hyperparemeter tuning."
   ]
  },
  {
   "cell_type": "code",
   "execution_count": 2,
   "id": "fdc3573d",
   "metadata": {},
   "outputs": [],
   "source": [
    "# Definining algorithm image\n",
    "from sagemaker import image_uris\n",
    "\n",
    "container = image_uris.retrieve(\n",
    "    region = region,\n",
    "    framework = 'image-classification'\n",
    ")"
   ]
  },
  {
   "cell_type": "code",
   "execution_count": 3,
   "id": "f56e4120",
   "metadata": {},
   "outputs": [],
   "source": [
    "# Path to the best model\n",
    "model_path = 's3://not-hot-dog/models/image_model/image-classification-230118-0234-001-d91e93a4/output/model.tar.gz'\n",
    "\n",
    "model = sagemaker.model.Model(\n",
    "    image_uri = container,\n",
    "    model_data = model_path,\n",
    "    role = role\n",
    ")"
   ]
  },
  {
   "attachments": {},
   "cell_type": "markdown",
   "id": "bea334c0",
   "metadata": {},
   "source": [
    "## Configuring and Deploying Endpoint"
   ]
  },
  {
   "cell_type": "code",
   "execution_count": 4,
   "id": "9ea7886c",
   "metadata": {},
   "outputs": [
    {
     "name": "stdout",
     "output_type": "stream",
     "text": [
      "------------!"
     ]
    }
   ],
   "source": [
    "# creating endpoint\n",
    "model_endpoint_name = 'hotdog-classifier'\n",
    "\n",
    "deployed_model = model.deploy(\n",
    "    initial_instance_count = 1,\n",
    "    instance_type = 'ml.m4.xlarge',\n",
    "    endpoint_name = model_endpoint_name\n",
    ")"
   ]
  },
  {
   "attachments": {},
   "cell_type": "markdown",
   "id": "7ad6f3a8",
   "metadata": {},
   "source": [
    "## Making Local Inferences"
   ]
  },
  {
   "cell_type": "code",
   "execution_count": 6,
   "id": "5b89c4f5",
   "metadata": {},
   "outputs": [
    {
     "name": "stdout",
     "output_type": "stream",
     "text": [
      "b'[0.4506995379924774, 0.549300491809845]'\n"
     ]
    }
   ],
   "source": [
    "from sagemaker.predictor import Predictor\n",
    "from sagemaker.serializers import IdentitySerializer\n",
    "import base64\n",
    "\n",
    "predictor = Predictor(model_endpoint_name)\n",
    "\n",
    "file_name = './data/validation/hot_dog_0.jpg'\n",
    "\n",
    "predictor.serializer = IdentitySerializer('image/jpeg')\n",
    "with open(file_name, 'rb') as f:\n",
    "    payload = f.read()\n",
    "    \n",
    "inference = predictor.predict(data = payload)\n",
    "# left: probability not hotdog, right: probability hot dog\n",
    "print(inference)"
   ]
  },
  {
   "attachments": {},
   "cell_type": "markdown",
   "id": "856a2cd5",
   "metadata": {},
   "source": [
    "predicted that this image is 54.93% a hot dog. This is a byte array; we need to deserialize it."
   ]
  },
  {
   "attachments": {},
   "cell_type": "markdown",
   "id": "294bdef9",
   "metadata": {},
   "source": [
    "## Predictions on Validation Test"
   ]
  },
  {
   "cell_type": "code",
   "execution_count": 7,
   "id": "552e580f",
   "metadata": {},
   "outputs": [
    {
     "name": "stdout",
     "output_type": "stream",
     "text": [
      "[1, 1, 1, 1, 1, 0, 0, 1, 1, 1, 0, 0, 1, 0, 1, 0, 0, 1, 1, 0, 0, 1, 1, 1, 1, 0, 1, 0, 0, 0, 1, 1, 1, 0, 1, 1, 0, 1, 0, 1, 1, 0, 0, 0, 0, 0, 1, 0, 1, 0, 0, 0, 1, 1, 1, 1, 1, 0, 0, 0, 0, 0, 1, 0, 1, 1, 0, 1, 0, 1, 0, 0, 1, 0, 0, 1, 1, 0, 1, 1, 1, 0, 1, 0, 0, 0, 0, 1, 1, 1, 0, 0, 1, 0, 0, 1, 1, 1, 0, 0, 0, 0, 0, 0, 1, 1, 1, 1, 0, 1, 0, 1, 1, 1, 1, 1, 0, 1, 0, 0, 0, 1, 0, 1, 0, 1, 0, 0, 1, 1, 1, 0, 1, 1, 0, 1, 0, 1, 1, 1, 1, 0, 0, 0, 0, 1, 1, 1, 1, 0, 0, 0, 1, 0, 0, 0, 0, 0, 0, 0, 1, 1, 0, 1, 0, 1, 0, 1, 1, 0, 0, 0, 1, 0, 1, 1, 1, 0, 1, 0, 0, 1, 1, 1, 1, 0, 0, 0, 0, 1, 0, 0, 1, 1, 0, 0, 0, 1, 0]\n",
      "[1, 1, 0, 0, 1, 0, 0, 0, 1, 0, 0, 0, 1, 0, 0, 0, 1, 0, 1, 1, 1, 0, 0, 1, 1, 1, 1, 1, 0, 0, 0, 1, 0, 1, 1, 0, 0, 1, 1, 0, 1, 0, 1, 1, 0, 1, 1, 0, 1, 0, 0, 0, 0, 1, 0, 0, 0, 0, 1, 1, 1, 0, 1, 1, 0, 1, 0, 1, 1, 1, 0, 1, 1, 0, 1, 1, 1, 1, 1, 1, 1, 0, 0, 1, 1, 1, 0, 0, 1, 1, 0, 0, 1, 0, 0, 1, 0, 1, 0, 0, 0, 0, 0, 1, 1, 1, 1, 0, 0, 1, 0, 0, 1, 1, 1, 1, 0, 0, 1, 0, 0, 1, 0, 0, 0, 1, 0, 0, 0, 1, 1, 0, 0, 1, 0, 0, 0, 0, 1, 1, 1, 0, 0, 1, 0, 0, 0, 1, 1, 0, 0, 1, 1, 0, 0, 0, 0, 0, 0, 0, 0, 1, 0, 1, 0, 1, 1, 1, 1, 1, 1, 0, 0, 0, 0, 0, 0, 1, 1, 1, 0, 1, 0, 1, 1, 0, 1, 0, 0, 1, 1, 0, 0, 0, 0, 0, 0, 1, 1]\n"
     ]
    }
   ],
   "source": [
    "import glob \n",
    "import json\n",
    "import numpy as np\n",
    "\n",
    "y_true = []\n",
    "y_pred = []\n",
    "\n",
    "validation_file_path = './data/validation/*.jpg'\n",
    "\n",
    "def make_predictions(validation_path):\n",
    "    files = glob.glob(validation_path)\n",
    "    for file in files:\n",
    "        if 'not_hot_dog' in file:\n",
    "            with open(file, 'rb') as f:\n",
    "                payload = f.read()\n",
    "                inference = predictor.predict(data = payload).decode('utf-8')\n",
    "                result = json.loads(inference)\n",
    "                predicted_class = np.argmax(result)\n",
    "                y_true.append(0)\n",
    "                y_pred.append(predicted_class)\n",
    "        elif '/hot_dog' in file:\n",
    "            with open(file, 'rb') as f:\n",
    "                payload = f.read()\n",
    "                inference = predictor.predict(data = payload).decode('utf-8')\n",
    "                result = json.loads(inference)\n",
    "                predicted_class = np.argmax(result)\n",
    "                y_true.append(1)\n",
    "                y_pred.append(predicted_class)\n",
    "                \n",
    "make_predictions(validation_file_path)\n",
    "print(y_true)\n",
    "print(y_pred)"
   ]
  },
  {
   "attachments": {},
   "cell_type": "markdown",
   "id": "83232f2b",
   "metadata": {},
   "source": [
    "## Confusion Matrix"
   ]
  },
  {
   "cell_type": "code",
   "execution_count": 8,
   "id": "49a5b467",
   "metadata": {},
   "outputs": [
    {
     "data": {
      "text/plain": [
       "array([[67, 33],\n",
       "       [38, 61]])"
      ]
     },
     "execution_count": 8,
     "metadata": {},
     "output_type": "execute_result"
    }
   ],
   "source": [
    "from sklearn.metrics import confusion_matrix\n",
    "\n",
    "confusion_matrix(y_true, y_pred)"
   ]
  },
  {
   "cell_type": "code",
   "execution_count": null,
   "id": "ba99342c",
   "metadata": {},
   "outputs": [],
   "source": []
  }
 ],
 "metadata": {
  "kernelspec": {
   "display_name": "Python 3",
   "language": "python",
   "name": "python3"
  },
  "language_info": {
   "codemirror_mode": {
    "name": "ipython",
    "version": 3
   },
   "file_extension": ".py",
   "mimetype": "text/x-python",
   "name": "python",
   "nbconvert_exporter": "python",
   "pygments_lexer": "ipython3",
   "version": "3.7.3 (default, Apr 24 2020, 18:51:23) \n[Clang 11.0.3 (clang-1103.0.32.62)]"
  },
  "vscode": {
   "interpreter": {
    "hash": "31f2aee4e71d21fbe5cf8b01ff0e069b9275f58929596ceb00d14d90e3e16cd6"
   }
  }
 },
 "nbformat": 4,
 "nbformat_minor": 5
}
