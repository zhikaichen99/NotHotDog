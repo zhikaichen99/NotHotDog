{
 "cells": [
  {
   "attachments": {},
   "cell_type": "markdown",
   "id": "e7b3605b",
   "metadata": {},
   "source": [
    "# Data Preparation\n",
    "\n",
    "In this notebook we will be preparing the data for image classification. We will be performing the following tasks:\n",
    "- splitting the data in training and validation sets\n",
    "- creating .lst files for image classification model.\n",
    "- uploading the data into our S3 bucket."
   ]
  },
  {
   "cell_type": "code",
   "execution_count": 7,
   "id": "5bc452c5",
   "metadata": {},
   "outputs": [],
   "source": [
    "import pandas as pd\n",
    "import glob\n",
    "import os\n",
    "import shutil\n",
    "import random"
   ]
  },
  {
   "cell_type": "code",
   "execution_count": 31,
   "id": "0ebf88bf",
   "metadata": {},
   "outputs": [],
   "source": [
    "os.mkdir('./data/train')\n",
    "os.mkdir('./data/validation')"
   ]
  },
  {
   "attachments": {},
   "cell_type": "markdown",
   "id": "53689267",
   "metadata": {},
   "source": [
    "## Splitting Dataset into Training and Validation Folders"
   ]
  },
  {
   "cell_type": "code",
   "execution_count": 58,
   "id": "d172cb46",
   "metadata": {},
   "outputs": [],
   "source": [
    "# Splitting the data into training, test, and validation folder. 499 for hotdog and 499 for non-hotdog\n",
    "train_split = 0.80\n",
    "\n",
    "def split_data(train_split):\n",
    "    training_directory = './data/train/'\n",
    "    validation_directory = './data/validation/'\n",
    "   \n",
    "    folder = './data/'\n",
    "    \n",
    "    images = glob.glob('./data/*.jpg')\n",
    "    hotdog_images = [file for file in images if '/hot_dog' in file]\n",
    "    nothotdog_images = [file for file in images if 'not_hot_dog' in file]\n",
    "    \n",
    "    num_of_each = int(len(images)*train_split*0.5)\n",
    "    \n",
    "    for i in range(0, num_of_each + 1):\n",
    "        shutil.move(hotdog_images[i], training_directory + hotdog_images[i].split('/')[-1])\n",
    "        shutil.move(nothotdog_images[i], training_directory + nothotdog_images[i].split('/')[-1])\n",
    "\n",
    "    \n",
    "    rest_of_images = glob.glob('./data/*.jpg')\n",
    "    for image in rest_of_images:\n",
    "        file_name = image.split('/')[-1]\n",
    "        shutil.move(image, validation_directory + file_name)"
   ]
  },
  {
   "cell_type": "code",
   "execution_count": 59,
   "id": "864f17f3",
   "metadata": {},
   "outputs": [],
   "source": [
    "# Split the data\n",
    "split_data(train_split)"
   ]
  },
  {
   "attachments": {},
   "cell_type": "markdown",
   "id": "1e9fa33d",
   "metadata": {},
   "source": [
    "Checking to see if the dataset was properly split"
   ]
  },
  {
   "cell_type": "code",
   "execution_count": 61,
   "id": "3f038674",
   "metadata": {},
   "outputs": [
    {
     "name": "stdout",
     "output_type": "stream",
     "text": [
      "Number of Training Images: 799\n",
      "Number of Validation Images: 199\n",
      "Number of Hot Dogs in Training: 400\n",
      "Number of Not Hot Dogs in Training: 399\n",
      "Number of Hot Dogs in Validation: 99\n",
      "Number of Not Hot Dogs in Training: 100\n"
     ]
    }
   ],
   "source": [
    "# verify split properly\n",
    "training_images = glob.glob('./data/train/*.jpg')\n",
    "validation_images = glob.glob('./data/validation/*.jpg')\n",
    "\n",
    "training_hotdogs = [image for image in training_images if '/hot_dog' in image]\n",
    "training_nots = [image for image in training_images if 'not_hot_dog' in image]\n",
    "\n",
    "val_hotdogs = [image for image in validation_images if '/hot_dog' in image]\n",
    "val_nots = [image for image in validation_images if 'not_hot_dog' in image]\n",
    "\n",
    "print(\"Number of Training Images: {}\".format(len(training_images)))\n",
    "print(\"Number of Validation Images: {}\".format(len(validation_images)))\n",
    "\n",
    "print(\"Number of Hot Dogs in Training: {}\".format(len(training_hotdogs)))\n",
    "print(\"Number of Not Hot Dogs in Training: {}\".format(len(training_nots)))\n",
    "\n",
    "print(\"Number of Hot Dogs in Validation: {}\".format(len(val_hotdogs)))\n",
    "print(\"Number of Not Hot Dogs in Training: {}\".format(len(val_nots)))"
   ]
  },
  {
   "attachments": {},
   "cell_type": "markdown",
   "id": "61438ddb",
   "metadata": {},
   "source": [
    "## Creating *.lst* files\n",
    "\n",
    "Amazon's built-in image classifier can take two types of input formats: RecordIO format or lst format.\n",
    "\n",
    "A .lst file is a tab-seperated file with three columns that contains a list of image files. The first column is the image index, second column is the class label, and the third column is the file path of the image.\n",
    "\n",
    "We will be creating a dataframe for the training and validation images and saving that dataframe as an lst file."
   ]
  },
  {
   "cell_type": "code",
   "execution_count": 64,
   "id": "6d573bbe",
   "metadata": {},
   "outputs": [],
   "source": [
    "# Creating Image Dataframe\n",
    "def create_img_dataframe(directory):\n",
    "    labels = []\n",
    "    filenames = []\n",
    "    \n",
    "    folder = './data/{}/*.jpg'.format(directory)\n",
    "    images = glob.glob(folder)\n",
    "    \n",
    "    for image in images:\n",
    "        if '/hot_dog' in image:\n",
    "            labels.append(1)\n",
    "            filenames.append(os.path.basename(image))\n",
    "        elif 'not_hot_dog' in image:\n",
    "            labels.append(0)\n",
    "            filenames.append(os.path.basename(image))\n",
    "    \n",
    "    df = pd.DataFrame(list(zip(labels, filenames)), columns = ['labels', 's3_path'])\n",
    "    return df"
   ]
  },
  {
   "cell_type": "code",
   "execution_count": 66,
   "id": "9916913d",
   "metadata": {},
   "outputs": [
    {
     "data": {
      "text/html": [
       "<div>\n",
       "<style scoped>\n",
       "    .dataframe tbody tr th:only-of-type {\n",
       "        vertical-align: middle;\n",
       "    }\n",
       "\n",
       "    .dataframe tbody tr th {\n",
       "        vertical-align: top;\n",
       "    }\n",
       "\n",
       "    .dataframe thead th {\n",
       "        text-align: right;\n",
       "    }\n",
       "</style>\n",
       "<table border=\"1\" class=\"dataframe\">\n",
       "  <thead>\n",
       "    <tr style=\"text-align: right;\">\n",
       "      <th></th>\n",
       "      <th>labels</th>\n",
       "      <th>s3_path</th>\n",
       "    </tr>\n",
       "  </thead>\n",
       "  <tbody>\n",
       "    <tr>\n",
       "      <th>0</th>\n",
       "      <td>0</td>\n",
       "      <td>not_hot_dog_274.jpg</td>\n",
       "    </tr>\n",
       "    <tr>\n",
       "      <th>1</th>\n",
       "      <td>0</td>\n",
       "      <td>not_hot_dog_112.jpg</td>\n",
       "    </tr>\n",
       "    <tr>\n",
       "      <th>2</th>\n",
       "      <td>1</td>\n",
       "      <td>hot_dog_374.jpg</td>\n",
       "    </tr>\n",
       "    <tr>\n",
       "      <th>3</th>\n",
       "      <td>1</td>\n",
       "      <td>hot_dog_409.jpg</td>\n",
       "    </tr>\n",
       "    <tr>\n",
       "      <th>4</th>\n",
       "      <td>0</td>\n",
       "      <td>not_hot_dog_94.jpg</td>\n",
       "    </tr>\n",
       "  </tbody>\n",
       "</table>\n",
       "</div>"
      ],
      "text/plain": [
       "   labels              s3_path\n",
       "0       0  not_hot_dog_274.jpg\n",
       "1       0  not_hot_dog_112.jpg\n",
       "2       1      hot_dog_374.jpg\n",
       "3       1      hot_dog_409.jpg\n",
       "4       0   not_hot_dog_94.jpg"
      ]
     },
     "execution_count": 66,
     "metadata": {},
     "output_type": "execute_result"
    }
   ],
   "source": [
    "train_df = create_img_dataframe('train')\n",
    "train_df.head()"
   ]
  },
  {
   "cell_type": "code",
   "execution_count": 68,
   "id": "d6859f82",
   "metadata": {},
   "outputs": [
    {
     "data": {
      "text/html": [
       "<div>\n",
       "<style scoped>\n",
       "    .dataframe tbody tr th:only-of-type {\n",
       "        vertical-align: middle;\n",
       "    }\n",
       "\n",
       "    .dataframe tbody tr th {\n",
       "        vertical-align: top;\n",
       "    }\n",
       "\n",
       "    .dataframe thead th {\n",
       "        text-align: right;\n",
       "    }\n",
       "</style>\n",
       "<table border=\"1\" class=\"dataframe\">\n",
       "  <thead>\n",
       "    <tr style=\"text-align: right;\">\n",
       "      <th></th>\n",
       "      <th>labels</th>\n",
       "      <th>s3_path</th>\n",
       "    </tr>\n",
       "  </thead>\n",
       "  <tbody>\n",
       "    <tr>\n",
       "      <th>0</th>\n",
       "      <td>1</td>\n",
       "      <td>hot_dog_447.jpg</td>\n",
       "    </tr>\n",
       "    <tr>\n",
       "      <th>1</th>\n",
       "      <td>1</td>\n",
       "      <td>hot_dog_27.jpg</td>\n",
       "    </tr>\n",
       "    <tr>\n",
       "      <th>2</th>\n",
       "      <td>1</td>\n",
       "      <td>hot_dog_102.jpg</td>\n",
       "    </tr>\n",
       "    <tr>\n",
       "      <th>3</th>\n",
       "      <td>1</td>\n",
       "      <td>hot_dog_136.jpg</td>\n",
       "    </tr>\n",
       "    <tr>\n",
       "      <th>4</th>\n",
       "      <td>1</td>\n",
       "      <td>hot_dog_328.jpg</td>\n",
       "    </tr>\n",
       "  </tbody>\n",
       "</table>\n",
       "</div>"
      ],
      "text/plain": [
       "   labels          s3_path\n",
       "0       1  hot_dog_447.jpg\n",
       "1       1   hot_dog_27.jpg\n",
       "2       1  hot_dog_102.jpg\n",
       "3       1  hot_dog_136.jpg\n",
       "4       1  hot_dog_328.jpg"
      ]
     },
     "execution_count": 68,
     "metadata": {},
     "output_type": "execute_result"
    }
   ],
   "source": [
    "val_df = create_img_dataframe('validation')\n",
    "val_df.head()"
   ]
  },
  {
   "cell_type": "code",
   "execution_count": 69,
   "id": "6ff3584c",
   "metadata": {},
   "outputs": [],
   "source": [
    "# save dataframe into lst file\n",
    "def save_to_lst(df, prefix):\n",
    "    return df[['labels', 's3_path']].to_csv(f'{prefix}.lst', sep = '\\t', index = True, header = False)\n",
    "\n",
    "save_to_lst(train_df.copy(), 'train')\n",
    "save_to_lst(val_df.copy(), 'validation')"
   ]
  },
  {
   "attachments": {},
   "cell_type": "markdown",
   "id": "b6016138",
   "metadata": {},
   "source": [
    "## Upload data to S3 Bucket"
   ]
  },
  {
   "cell_type": "code",
   "execution_count": 70,
   "id": "d914132f",
   "metadata": {},
   "outputs": [],
   "source": [
    "# Upload lst files into s3\n",
    "\n",
    "import sagemaker\n",
    "import boto3\n",
    "\n",
    "sagemaker_session = sagemaker.Session()\n",
    "bucket = 'not-hot-dog'\n",
    "role = sagemaker.get_execution_role()\n",
    "region = sagemaker_session.boto_region_name\n",
    "\n",
    "os.environ['DEFAULT_S3_BUCKET'] = bucket"
   ]
  },
  {
   "cell_type": "code",
   "execution_count": 72,
   "id": "3dca6578",
   "metadata": {},
   "outputs": [],
   "source": [
    "# Uploading local files into s3 bucket\n",
    "!aws s3 sync ./data/train s3://${DEFAULT_S3_BUCKET}/train/\n",
    "!aws s3 sync ./data/validation s3://${DEFAULT_S3_BUCKET}/validation/"
   ]
  },
  {
   "cell_type": "code",
   "execution_count": 73,
   "id": "b82fc0ee",
   "metadata": {},
   "outputs": [],
   "source": [
    "# Upload lst files into s3 bucket\n",
    "boto3.Session().resource('s3').Bucket(bucket).Object('train.lst').upload_file('./train.lst')\n",
    "boto3.Session().resource('s3').Bucket(bucket).Object('validation.lst').upload_file('./validation.lst')"
   ]
  },
  {
   "cell_type": "code",
   "execution_count": null,
   "id": "249f6040",
   "metadata": {},
   "outputs": [],
   "source": []
  }
 ],
 "metadata": {
  "kernelspec": {
   "display_name": "Python 3",
   "language": "python",
   "name": "python3"
  },
  "language_info": {
   "codemirror_mode": {
    "name": "ipython",
    "version": 3
   },
   "file_extension": ".py",
   "mimetype": "text/x-python",
   "name": "python",
   "nbconvert_exporter": "python",
   "pygments_lexer": "ipython3",
   "version": "3.7.3 (default, Apr 24 2020, 18:51:23) \n[Clang 11.0.3 (clang-1103.0.32.62)]"
  },
  "vscode": {
   "interpreter": {
    "hash": "31f2aee4e71d21fbe5cf8b01ff0e069b9275f58929596ceb00d14d90e3e16cd6"
   }
  }
 },
 "nbformat": 4,
 "nbformat_minor": 5
}
