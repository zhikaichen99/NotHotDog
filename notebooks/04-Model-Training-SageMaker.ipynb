{
 "cells": [
  {
   "attachments": {},
   "cell_type": "markdown",
   "id": "bbb4b073",
   "metadata": {},
   "source": [
    "# Model Training in SageMaker\n",
    "\n",
    "In this notebook we will be using Amazon's Built-in Image Classifier to train on our image dataset. Additionally we will be performing hyperparameter tuning to get the best combination of hyperparameters that yield the best results.\n",
    "\n",
    "- load docker container containing image classifier\n",
    "- set up training and hyperparameters for image classifier\n",
    "- configure the hyperparameter tuning job\n",
    "- setting up the data channels\n",
    "- run the hyperparameter tuning job"
   ]
  },
  {
   "cell_type": "code",
   "execution_count": 2,
   "id": "db548c28",
   "metadata": {},
   "outputs": [],
   "source": [
    "import sagemaker\n",
    "import boto3\n",
    "import os\n",
    "\n",
    "sagemaker_session = sagemaker.Session()\n",
    "role = sagemaker.get_execution_role()\n",
    "region = sagemaker_session.boto_region_name\n",
    "bucket = 'not-hot-dog'\n",
    "\n",
    "os.environ['DEFAULT_s3_BUCKET'] = bucket"
   ]
  },
  {
   "cell_type": "code",
   "execution_count": 3,
   "id": "bc634160",
   "metadata": {},
   "outputs": [
    {
     "name": "stdout",
     "output_type": "stream",
     "text": [
      "arn:aws:iam::003294323742:role/service-role/AmazonSageMaker-ExecutionRole-20230115T105791\n",
      "us-east-2\n"
     ]
    }
   ],
   "source": [
    "print(role)\n",
    "print(region)"
   ]
  },
  {
   "attachments": {},
   "cell_type": "markdown",
   "id": "395b0bfe",
   "metadata": {},
   "source": [
    "## Load Docker Container\n",
    "\n",
    "SageMaker provides docker containers for different built-in algorithms. We will be loading the docker container containing the image classification model."
   ]
  },
  {
   "cell_type": "code",
   "execution_count": 4,
   "id": "b0f3c658",
   "metadata": {},
   "outputs": [],
   "source": [
    "from sagemaker.amazon.amazon_estimator import get_image_uri\n",
    "\n",
    "container = sagemaker.image_uris.retrieve(\n",
    "    region = region,\n",
    "    framework = 'image-classification'\n",
    ")"
   ]
  },
  {
   "cell_type": "code",
   "execution_count": 5,
   "id": "69ef683b",
   "metadata": {},
   "outputs": [],
   "source": [
    "# Setting up where out trained machine learning model will be stored.\n",
    "s3_output_location = 's3://{}/models/image_model'.format(bucket)"
   ]
  },
  {
   "attachments": {},
   "cell_type": "markdown",
   "id": "6c995047",
   "metadata": {},
   "source": [
    "## Setting up Parameters and Hyperparameters"
   ]
  },
  {
   "attachments": {},
   "cell_type": "markdown",
   "id": "44cf9b76",
   "metadata": {},
   "source": [
    "### Training Parameters"
   ]
  },
  {
   "cell_type": "code",
   "execution_count": 6,
   "id": "570aea05",
   "metadata": {},
   "outputs": [],
   "source": [
    "#Setting up training parameters\n",
    "instance_count = 1\n",
    "instance_type = 'ml.p2.xlarge'\n",
    "volume_size = 50\n",
    "max_run = 360000\n",
    "input_mode = 'File'"
   ]
  },
  {
   "cell_type": "code",
   "execution_count": 7,
   "id": "56ba360d",
   "metadata": {},
   "outputs": [],
   "source": [
    "image_classifier = sagemaker.estimator.Estimator(\n",
    "    container,\n",
    "    role = role,\n",
    "    instance_count = instance_count,\n",
    "    instance_type = instance_type,\n",
    "    volume_size = volume_size,\n",
    "    max_run = max_run,\n",
    "    input_mode = input_mode,\n",
    "    output_path = s3_output_location,\n",
    "    sagemaker_session = sagemaker_session\n",
    ")"
   ]
  },
  {
   "attachments": {},
   "cell_type": "markdown",
   "id": "9f653dbf",
   "metadata": {},
   "source": [
    "### Hyperparameters"
   ]
  },
  {
   "cell_type": "code",
   "execution_count": 9,
   "id": "3d78754a",
   "metadata": {},
   "outputs": [],
   "source": [
    "use_pretrained_model = 1\n",
    "image_shape = '3,224,224'\n",
    "num_classes = 2\n",
    "num_training_samples = 799\n",
    "epochs = 15\n",
    "augmentation_type = 'crop_color_transform'\n",
    "early_stopping_min_epochs = 8\n",
    "early_stopping_patience = 5\n",
    "early_stopping_tolerance = 0.0\n",
    "lr_scheduler_factor = 0.1\n",
    "lr_scheduler_step = '8,10,12'\n",
    "\n",
    "image_classifier.set_hyperparameters(\n",
    "    use_pretrained_model = use_pretrained_model,\n",
    "    image_shape = image_shape,\n",
    "    num_classes = num_classes,\n",
    "    num_training_samples = num_training_samples,\n",
    "    epochs = epochs,\n",
    "    augmentation_type = augmentation_type,\n",
    "    early_stopping_patience = early_stopping_patience,\n",
    "    early_stopping_tolerance = early_stopping_tolerance,\n",
    "    lr_scheduler_factor = lr_scheduler_factor,\n",
    "    lr_scheduler_step = lr_scheduler_step\n",
    ")"
   ]
  },
  {
   "attachments": {},
   "cell_type": "markdown",
   "id": "33a50f2c",
   "metadata": {},
   "source": [
    "## Configure Hyperparameter Tuning Job"
   ]
  },
  {
   "cell_type": "code",
   "execution_count": 11,
   "id": "fbf84d85",
   "metadata": {},
   "outputs": [],
   "source": [
    "# Configure hyperparameter tuning\n",
    "import time\n",
    "from sagemaker.tuner import CategoricalParameter, ContinuousParameter, HyperparameterTuner\n",
    "\n",
    "hyperparameter_ranges = {\n",
    "    'learning_rate': ContinuousParameter(0.01, 0.1),\n",
    "    'mini_batch_size': CategoricalParameter([8, 16, 32]),\n",
    "    'optimizer': CategoricalParameter(['sgd', 'adam'])\n",
    "}"
   ]
  },
  {
   "cell_type": "code",
   "execution_count": 12,
   "id": "93c408d1",
   "metadata": {},
   "outputs": [],
   "source": [
    "tuner = HyperparameterTuner(\n",
    "    estimator = image_classifier,\n",
    "    objective_metric_name = 'validation:accuracy',\n",
    "    objective_type = 'Maximize',\n",
    "    max_jobs = 5,\n",
    "    max_parallel_jobs = 1,\n",
    "    hyperparameter_ranges = hyperparameter_ranges\n",
    ")"
   ]
  },
  {
   "attachments": {},
   "cell_type": "markdown",
   "id": "81b09cf9",
   "metadata": {},
   "source": [
    "## Setting up Data Channels"
   ]
  },
  {
   "cell_type": "code",
   "execution_count": 19,
   "id": "4bf6d658",
   "metadata": {},
   "outputs": [],
   "source": [
    "s3_train_uri = 's3://{}/train/'.format(bucket)\n",
    "s3_validation_uri = 's3://{}/validation/'.format(bucket)\n",
    "s3_train_lst_uri = 's3://{}/train.lst'.format(bucket)\n",
    "s3_validation_lst_uri = 's3://{}/validation.lst'.format(bucket)"
   ]
  },
  {
   "cell_type": "code",
   "execution_count": 21,
   "id": "b3b6c724",
   "metadata": {},
   "outputs": [],
   "source": [
    "from sagemaker.session import TrainingInput\n",
    "\n",
    "# creating training data inputs\n",
    "s3_input_train_data = sagemaker.inputs.TrainingInput(\n",
    "    s3_data = s3_train_uri,\n",
    "    content_type = 'application/x-image'\n",
    ")\n",
    "\n",
    "# creating validation data inputs\n",
    "s3_input_validation_data = sagemaker.inputs.TrainingInput(\n",
    "    s3_data = s3_validation_uri,\n",
    "    content_type = 'application/x-image'\n",
    ")\n",
    "\n",
    "# creating train lst input\n",
    "s3_input_train_lst = sagemaker.inputs.TrainingInput(\n",
    "    s3_data = s3_train_lst_uri,\n",
    "    content_type = 'application/x-image'\n",
    ")\n",
    "\n",
    "# creating validation lst input\n",
    "s3_input_validation_lst = sagemaker.inputs.TrainingInput(\n",
    "    s3_data = s3_validation_lst_uri,\n",
    "    content_type = 'application/x-image'\n",
    ")\n",
    "\n",
    "# Create data channel\n",
    "data_channels = {\n",
    "    'train': s3_input_train_data,\n",
    "    'validation':  s3_input_validation_data,\n",
    "    'train_lst': s3_input_train_lst,\n",
    "    'validation_lst': s3_input_validation_lst\n",
    "}"
   ]
  },
  {
   "attachments": {},
   "cell_type": "markdown",
   "id": "4834c958",
   "metadata": {},
   "source": [
    "## Run Hyperparameter Tuning Job"
   ]
  },
  {
   "cell_type": "code",
   "execution_count": 22,
   "id": "be93e91c",
   "metadata": {},
   "outputs": [
    {
     "name": "stderr",
     "output_type": "stream",
     "text": [
      "No finished training job found associated with this estimator. Please make sure this estimator is only used for building workflow config\n",
      "No finished training job found associated with this estimator. Please make sure this estimator is only used for building workflow config\n"
     ]
    }
   ],
   "source": [
    "tuner.fit(\n",
    "    inputs = data_channels,\n",
    "    include_cls_metadata = False,\n",
    "    wait = False\n",
    ")"
   ]
  },
  {
   "cell_type": "code",
   "execution_count": 23,
   "id": "6acf172b",
   "metadata": {},
   "outputs": [
    {
     "name": "stdout",
     "output_type": "stream",
     "text": [
      "image-classification-230118-0234\n"
     ]
    }
   ],
   "source": [
    "tuning_job_name = tuner.latest_tuning_job.job_name\n",
    "print(tuning_job_name)"
   ]
  },
  {
   "cell_type": "code",
   "execution_count": 24,
   "id": "f52e4d61",
   "metadata": {},
   "outputs": [
    {
     "name": "stdout",
     "output_type": "stream",
     "text": [
      "...........................................................................................................................................................................................................................................................................................................................................................................................................................................................................................................................................................................................................................................................................................................................................................................................................................................................................................................................................................................................................................................................................!\n",
      "CPU times: user 4.24 s, sys: 317 ms, total: 4.56 s\n",
      "Wall time: 1h 27min 4s\n"
     ]
    }
   ],
   "source": [
    "%%time \n",
    "\n",
    "tuner.wait()"
   ]
  },
  {
   "cell_type": "code",
   "execution_count": null,
   "id": "4fadb9d4",
   "metadata": {},
   "outputs": [],
   "source": []
  }
 ],
 "metadata": {
  "kernelspec": {
   "display_name": "Python 3",
   "language": "python",
   "name": "python3"
  },
  "language_info": {
   "codemirror_mode": {
    "name": "ipython",
    "version": 3
   },
   "file_extension": ".py",
   "mimetype": "text/x-python",
   "name": "python",
   "nbconvert_exporter": "python",
   "pygments_lexer": "ipython3",
   "version": "3.7.3 (default, Apr 24 2020, 18:51:23) \n[Clang 11.0.3 (clang-1103.0.32.62)]"
  },
  "vscode": {
   "interpreter": {
    "hash": "31f2aee4e71d21fbe5cf8b01ff0e069b9275f58929596ceb00d14d90e3e16cd6"
   }
  }
 },
 "nbformat": 4,
 "nbformat_minor": 5
}
