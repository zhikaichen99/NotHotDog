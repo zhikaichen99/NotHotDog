{
 "cells": [
  {
   "cell_type": "code",
   "execution_count": 1,
   "id": "2f3b572b",
   "metadata": {},
   "outputs": [
    {
     "name": "stdout",
     "output_type": "stream",
     "text": [
      "\u001b[33mWARNING: You are using pip version 22.0.4; however, version 22.3.1 is available.\r\n",
      "You should consider upgrading via the '/home/ec2-user/anaconda3/envs/pytorch_p38/bin/python -m pip install --upgrade pip' command.\u001b[0m\u001b[33m\r\n",
      "\u001b[0m"
     ]
    }
   ],
   "source": [
    "!pip install -q kaggle"
   ]
  },
  {
   "cell_type": "code",
   "execution_count": 17,
   "id": "873f5154",
   "metadata": {},
   "outputs": [],
   "source": [
    "rm -r ~/.kaggle"
   ]
  },
  {
   "cell_type": "code",
   "execution_count": 18,
   "id": "2071f328",
   "metadata": {},
   "outputs": [],
   "source": [
    "mkdir ~/.kaggle"
   ]
  },
  {
   "cell_type": "code",
   "execution_count": 19,
   "id": "623e9f0d",
   "metadata": {},
   "outputs": [],
   "source": [
    "!touch ~/.kaggle/kaggle.json"
   ]
  },
  {
   "cell_type": "code",
   "execution_count": 20,
   "id": "31883ad9",
   "metadata": {},
   "outputs": [],
   "source": [
    "api_token = {\n",
    "    'username': 'zhikchen',\n",
    "    'key': '660846931a7bdedc9b90c915c9822336'\n",
    "}"
   ]
  },
  {
   "cell_type": "code",
   "execution_count": 21,
   "id": "93379682",
   "metadata": {},
   "outputs": [],
   "source": [
    "import json\n",
    "\n",
    "with open('/home/ec2-user/.kaggle/kaggle.json', 'w') as file:\n",
    "    json.dump(api_token, file)"
   ]
  },
  {
   "cell_type": "code",
   "execution_count": 22,
   "id": "d6da8c66",
   "metadata": {},
   "outputs": [],
   "source": [
    "!chmod 600 /home/ec2-user/.kaggle/kaggle.json"
   ]
  },
  {
   "cell_type": "code",
   "execution_count": 23,
   "id": "b7671991",
   "metadata": {},
   "outputs": [
    {
     "name": "stdout",
     "output_type": "stream",
     "text": [
      "Downloading hot-dog-not-hot-dog.zip to /home/ec2-user/SageMaker\n",
      " 91%|██████████████████████████████████▍   | 81.0M/89.3M [00:01<00:00, 59.9MB/s]\n",
      "100%|██████████████████████████████████████| 89.3M/89.3M [00:01<00:00, 54.6MB/s]\n"
     ]
    }
   ],
   "source": [
    "!kaggle datasets download -d dansbecker/hot-dog-not-hot-dog --force"
   ]
  },
  {
   "cell_type": "code",
   "execution_count": 24,
   "id": "510f2b18",
   "metadata": {},
   "outputs": [],
   "source": [
    "import zipfile\n",
    "\n",
    "with zipfile.ZipFile('./hot-dog-not-hot-dog.zip', 'r') as zip_ref:\n",
    "    zip_ref.extractall('./data')"
   ]
  },
  {
   "cell_type": "code",
   "execution_count": null,
   "id": "635c7a14",
   "metadata": {},
   "outputs": [],
   "source": []
  }
 ],
 "metadata": {
  "kernelspec": {
   "display_name": "conda_pytorch_p38",
   "language": "python",
   "name": "conda_pytorch_p38"
  },
  "language_info": {
   "codemirror_mode": {
    "name": "ipython",
    "version": 3
   },
   "file_extension": ".py",
   "mimetype": "text/x-python",
   "name": "python",
   "nbconvert_exporter": "python",
   "pygments_lexer": "ipython3",
   "version": "3.8.12"
  }
 },
 "nbformat": 4,
 "nbformat_minor": 5
}
